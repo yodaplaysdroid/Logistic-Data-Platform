{
 "cells": [
  {
   "cell_type": "code",
   "execution_count": 127,
   "metadata": {},
   "outputs": [
    {
     "name": "stdout",
     "output_type": "stream",
     "text": [
      "('SYSAUDITOR',)\n",
      "('TEST',)\n",
      "('SYSSSO',)\n",
      "('SYSDBA',)\n",
      "('SYS',)\n"
     ]
    }
   ],
   "source": [
    "# TEST CONNECTION AND IMPORT LIBRARY\n",
    "\n",
    "import pyodbc\n",
    "\n",
    "server = 'localhost'\n",
    "database = 'DAMENG'\n",
    "username = 'SYSDBA'\n",
    "password = 'SYSDBA001'\n",
    "driver = '{DM8 ODBC DRIVER}'\n",
    "connection_string = f\"DRIVER={driver};SERVER={server};DATABASE={database};UID={username};PWD={password}\"\n",
    "conn = pyodbc.connect(connection_string)\n",
    "cursor = conn.cursor()\n",
    "\n",
    "cursor.execute('select username from dba_users')\n",
    "\n",
    "results = cursor.fetchall()\n",
    "for row in results:\n",
    "    print(row)\n",
    "cursor.execute('alter database mount')\n",
    "cursor.execute('alter database open')\n",
    "conn.close()"
   ]
  },
  {
   "cell_type": "code",
   "execution_count": 65,
   "metadata": {},
   "outputs": [
    {
     "ename": "Error",
     "evalue": "('HY000', '[HY000] Error in line: 1\\ntablespace [TEST] is already exist (-3401) (SQLExecDirectW)')",
     "output_type": "error",
     "traceback": [
      "\u001b[1;31m---------------------------------------------------------------------------\u001b[0m",
      "\u001b[1;31mError\u001b[0m                                     Traceback (most recent call last)",
      "Cell \u001b[1;32mIn[65], line 12\u001b[0m\n\u001b[0;32m     10\u001b[0m name \u001b[39m=\u001b[39m \u001b[39m'\u001b[39m\u001b[39mtest\u001b[39m\u001b[39m'\u001b[39m\n\u001b[0;32m     11\u001b[0m password \u001b[39m=\u001b[39m \u001b[39m'\u001b[39m\u001b[39mOwkl.9130\u001b[39m\u001b[39m'\u001b[39m\n\u001b[1;32m---> 12\u001b[0m cursor\u001b[39m.\u001b[39;49mexecute(\u001b[39mf\u001b[39;49m\u001b[39m\"\u001b[39;49m\u001b[39mcreate tablespace \u001b[39;49m\u001b[39m{\u001b[39;49;00mname\u001b[39m}\u001b[39;49;00m\u001b[39m datafile \u001b[39;49m\u001b[39m'\u001b[39;49m\u001b[39m{\u001b[39;49;00mname\u001b[39m}\u001b[39;49;00m\u001b[39m.dbf\u001b[39;49m\u001b[39m'\u001b[39;49m\u001b[39m size 256 autoextend on maxsize 10240\u001b[39;49m\u001b[39m\"\u001b[39;49m)\n\u001b[0;32m     13\u001b[0m cursor\u001b[39m.\u001b[39mexecute(\u001b[39mf\u001b[39m\u001b[39m'\u001b[39m\u001b[39mcreate user \u001b[39m\u001b[39m{\u001b[39;00mname\u001b[39m}\u001b[39;00m\u001b[39m identified by \u001b[39m\u001b[39m\"\u001b[39m\u001b[39m{\u001b[39;00mpassword\u001b[39m}\u001b[39;00m\u001b[39m\"\u001b[39m\u001b[39m default tablespace \u001b[39m\u001b[39m{\u001b[39;00mname\u001b[39m}\u001b[39;00m\u001b[39m default index tablespace \u001b[39m\u001b[39m{\u001b[39;00mname\u001b[39m}\u001b[39;00m\u001b[39m'\u001b[39m)\n\u001b[0;32m     14\u001b[0m cursor\u001b[39m.\u001b[39mexecute(\u001b[39mf\u001b[39m\u001b[39m'\u001b[39m\u001b[39mgrant \u001b[39m\u001b[39m\"\u001b[39m\u001b[39mRESOURCE\u001b[39m\u001b[39m\"\u001b[39m\u001b[39m, \u001b[39m\u001b[39m\"\u001b[39m\u001b[39mPUBLIC\u001b[39m\u001b[39m\"\u001b[39m\u001b[39m, \u001b[39m\u001b[39m\"\u001b[39m\u001b[39mDBA\u001b[39m\u001b[39m\"\u001b[39m\u001b[39m, \u001b[39m\u001b[39m\"\u001b[39m\u001b[39mVTI\u001b[39m\u001b[39m\"\u001b[39m\u001b[39m to \u001b[39m\u001b[39m{\u001b[39;00mname\u001b[39m}\u001b[39;00m\u001b[39m'\u001b[39m)\n",
      "\u001b[1;31mError\u001b[0m: ('HY000', '[HY000] Error in line: 1\\ntablespace [TEST] is already exist (-3401) (SQLExecDirectW)')"
     ]
    }
   ],
   "source": [
    "# CREATE TABLESPACES AND USERS\n",
    "\n",
    "server = 'localhost'\n",
    "database = 'DAMENG'\n",
    "username = 'SYSDBA'\n",
    "password = 'SYSDBA001'\n",
    "driver = '{DM8 ODBC DRIVER}'\n",
    "connection_string = f\"DRIVER={driver};SERVER={server};DATABASE={database};UID={username};PWD={password}\"\n",
    "conn = pyodbc.connect(connection_string)\n",
    "cursor = conn.cursor()\n",
    "\n",
    "name = 'test'\n",
    "password = 'Owkl.9130'\n",
    "\n",
    "cursor.execute(f\"create tablespace {name} datafile '{name}.dbf' size 256 autoextend on maxsize 10240\")\n",
    "cursor.execute(f'create user {name} identified by \"{password}\" default tablespace {name} default index tablespace {name}')\n",
    "cursor.execute(f'grant \"RESOURCE\", \"PUBLIC\", \"DBA\", \"VTI\" to {name}')\n",
    "\n",
    "cursor.execute('alter database mount')\n",
    "cursor.execute('alter database open')\n",
    "conn.close()"
   ]
  },
  {
   "cell_type": "code",
   "execution_count": 140,
   "metadata": {},
   "outputs": [
    {
     "name": "stdout",
     "output_type": "stream",
     "text": [
      "('集装箱动态',)\n",
      "('客户信息',)\n",
      "('物流公司',)\n",
      "('物流信息',)\n",
      "('卸货表',)\n",
      "('装货表',)\n"
     ]
    }
   ],
   "source": [
    "# LIST TABLES\n",
    "\n",
    "server = 'localhost'\n",
    "database = 'DAMENG'\n",
    "username = 'SYSDBA'\n",
    "password = 'SYSDBA001'\n",
    "driver = '{DM8 ODBC DRIVER}'\n",
    "connection_string = f\"DRIVER={driver};SERVER={server};DATABASE={database};UID={username};PWD={password}\"\n",
    "conn = pyodbc.connect(connection_string)\n",
    "cursor = conn.cursor()\n",
    "\n",
    "user = 'TEST'\n",
    "cursor.execute(f'select NAME from sysobjects where \"SUBTYPE$\"=\\'UTAB\\' AND SCHID=(SELECT ID FROM sysobjects WHERE NAME=\\'{user}\\' AND TYPE$=\\'SCH\\')')\n",
    "\n",
    "try:\n",
    "    results = cursor.fetchall()\n",
    "    if len(results) == 0:\n",
    "        print('Empty table')\n",
    "    for row in results:\n",
    "        print(row)\n",
    "except Exception as e:\n",
    "    print(e)\n",
    "cursor.execute('alter database mount')\n",
    "cursor.execute('alter database open')\n",
    "conn.close()"
   ]
  },
  {
   "cell_type": "code",
   "execution_count": 141,
   "metadata": {},
   "outputs": [
    {
     "name": "stdout",
     "output_type": "stream",
     "text": [
      "('区克', '511824199602123275', '14790823638', '江苏省宿迁市')\n",
      "('徐飞超', '650107200110150139', '17641114476', '山东省临沂市')\n",
      "('匡育南', '630123198812159054', '16164196045', '河北省秦皇岛市')\n",
      "('江厚', '450127198710169552', '19407134345', '青海省西宁市')\n",
      "('余创兆', '510900198501281070', '15972814409', '青海省海南藏族自治州')\n"
     ]
    }
   ],
   "source": [
    "# SQL QUERIES\n",
    "\n",
    "server = 'localhost'\n",
    "database = 'DAMENG'\n",
    "username = 'test'\n",
    "password = 'Owkl.9130'\n",
    "driver = '{DM8 ODBC DRIVER}'\n",
    "connection_string = f\"DRIVER={driver};SERVER={server};DATABASE={database};UID={username};PWD={password}\"\n",
    "conn = pyodbc.connect(connection_string)\n",
    "cursor = conn.cursor()\n",
    "\n",
    "# cursor.execute('create table 装货表 (船公司 varchar(100), 船名称 varchar(100), 作业开始时间 varchar(100), 作业结束时间 varchar(100), 始发时间 varchar(100), 到达时间 varchar(100), 作业港口 varchar(100), 提单号 varchar(100), 集装箱箱号 varchar(100), 箱尺寸TEU varchar(100), 启运地 varchar(100), 目的地 varchar(100))')\n",
    "# for a, b, c, d, e, f, g, h, i, j, k, l in table0:\n",
    "#     cursor.execute(f\"insert into 装货表 values ('{a}', '{b}', '{c}', '{d}', '{e}', '{f}', '{g}', '{h}', '{i}', '{j}', '{k}', '{l}')\")\n",
    "# cursor.execute('select * from 装货表')\n",
    "\n",
    "# cursor.execute('create table 卸货表 (船公司 varchar(100), 船名称 varchar(100), 作业开始时间 varchar(100), 作业结束时间 varchar(100), 始发时间 varchar(100), 到达时间 varchar(100), 作业港口 varchar(100), 提单号 varchar(100), 集装箱箱号 varchar(100), 箱尺寸TEU varchar(100), 启运地 varchar(100), 目的地 varchar(100))')\n",
    "# for a, b, c, d, e, f, g, h, i, j, k, l in table1:\n",
    "#     cursor.execute(f\"insert into 卸货表 values ('{a}', '{b}', '{c}', '{d}', '{e}', '{f}', '{g}', '{h}', '{i}', '{j}', '{k}', '{l}')\")\n",
    "# cursor.execute('select * from 卸货表')\n",
    "\n",
    "# cursor.execute('create table 物流信息 (提单号 varchar(100), 货主名称 varchar(100), 货主代码 varchar(100), 物流公司_货代 varchar(100), 集装箱箱号 varchar(100), 货物名称 varchar(100), 货重_吨 varchar(100))')\n",
    "# for a, b, c, d, e, f, g in table2:\n",
    "#     cursor.execute(f\"insert into 物流信息 values ('{a}', '{b}', '{c}', '{d}', '{e}', '{f}', '{g}')\")\n",
    "# cursor.execute('select * from 物流信息')\n",
    "\n",
    "# cursor.execute('create table 集装箱动态 (堆存港口 varchar(100), 集装箱箱号 varchar(100), 箱尺寸_TEU varchar(100), 提单号 varchar(100), 堆场位置 varchar(100), 操作 varchar(100), 操作日期 varchar(100))')\n",
    "# for a, b, c, d, e, f, g in table3:\n",
    "#     cursor.execute(f\"insert into 集装箱动态 values ('{a}', '{b}', '{c}', '{d}', '{e}', '{f}', '{g}')\")\n",
    "# cursor.execute('select * from 集装箱动态')\n",
    "\n",
    "# cursor.execute('create table 客户信息 (客户名称 varchar(100), 客户编号 varchar(100), 手机号 varchar(100), 省市区 varchar(100))')\n",
    "# for a, b, c, d in table4:\n",
    "#     cursor.execute(f\"insert into 客户信息 values ('{a}', '{b}', '{c}', '{d}')\")\n",
    "# cursor.execute('select * from 客户信息')\n",
    "\n",
    "# cursor.execute('create table 物流公司 (公司名称 varchar(100), 客户编号 varchar(100), 联系人 varchar(100), 电话 varchar(100), 省市区 varchar(100))')\n",
    "# for a, b, c, d, e in table5:\n",
    "#     cursor.execute(f\"insert into 物流公司 values ('{a}', '{b}', '{c}', '{d}', '{e}')\")\n",
    "# cursor.execute('select * from 物流公司')\n",
    "\n",
    "# cursor.execute('drop table 集装箱动态')\n",
    "# cursor.execute('drop table 物流信息')\n",
    "# cursor.execute('drop table 卸货表')\n",
    "# cursor.execute('drop table 客户信息')\n",
    "\n",
    "cursor.execute('select * from 客户信息')\n",
    "\n",
    "try:\n",
    "    results = cursor.fetchall()\n",
    "    if len(results) == 0:\n",
    "        print('Empty table')\n",
    "    for row in results:\n",
    "        print(row)\n",
    "except Exception as e:\n",
    "    print(e)\n",
    "cursor.execute('alter database mount')\n",
    "cursor.execute('alter database open')\n",
    "conn.close()"
   ]
  },
  {
   "cell_type": "code",
   "execution_count": 51,
   "metadata": {},
   "outputs": [],
   "source": [
    "import pandas as pd"
   ]
  },
  {
   "cell_type": "code",
   "execution_count": 130,
   "metadata": {},
   "outputs": [
    {
     "name": "stdout",
     "output_type": "stream",
     "text": [
      "Index(['船公司\\t', '船名称', '作业开始时间', '作业结束时间', '始发时间', '到达时间', '作业港口', '提单号',\n",
      "       '集装箱箱号', '箱尺寸（TEU）', '启运地', '目的地'],\n",
      "      dtype='object') Index(['船公司\\t', '船名称', '作业开始时间', '作业结束时间', '始发时间', '到达时间', '作业港口', '提单号',\n",
      "       '集装箱箱号', '箱尺寸（TEU）', '启运地', '目的地'],\n",
      "      dtype='object') Index(['提单号\\t', '货主名称', '货主代码', '物流公司（货代）', '集装箱箱号', '货物名称', '货重（吨）'], dtype='object') Index(['堆存港口', '集装箱箱号', '箱尺寸（TEU）', '提单号', '堆场位置', '操作', '操作日期'], dtype='object') Index(['客户名称', '客户编号', '手机号', '省市区'], dtype='object') Index(['公司名称', '客户编号', '联系人', '电话', '省市区'], dtype='object')\n"
     ]
    }
   ],
   "source": [
    "df = pd.read_excel('../data/dataset.xlsx', sheet_name='装货表')\n",
    "columns0 = df.columns\n",
    "table0 = []\n",
    "for i in range(len(df)):\n",
    "    table0.append(list(map(str, df.iloc[i].tolist())))\n",
    "\n",
    "df = pd.read_excel('../data/dataset.xlsx', sheet_name='卸货表')\n",
    "columns1 = df.columns\n",
    "table1 = []\n",
    "for i in range(len(df)):\n",
    "    table1.append(list(map(str, df.iloc[i].tolist())))\n",
    "\n",
    "df = pd.read_excel('../data/dataset.xlsx', sheet_name='物流信息')\n",
    "columns2 = df.columns\n",
    "table2 = []\n",
    "for i in range(len(df)):\n",
    "    table2.append(list(map(str, df.iloc[i].tolist())))\n",
    "\n",
    "df = pd.read_excel('../data/dataset.xlsx', sheet_name='集装箱动态')\n",
    "columns3 = df.columns\n",
    "table3 = []\n",
    "for i in range(len(df)):\n",
    "    table3.append(list(map(str, df.iloc[i].tolist())))\n",
    "\n",
    "df = pd.read_excel('../data/dataset.xlsx', sheet_name='客户信息')\n",
    "columns4 = df.columns\n",
    "table4 = []\n",
    "for i in range(len(df)):\n",
    "    table4.append(list(map(str, df.iloc[i].tolist())))\n",
    "\n",
    "df = pd.read_excel('../data/dataset.xlsx', sheet_name='物流公司')\n",
    "columns5 = df.columns\n",
    "table5 = []\n",
    "for i in range(len(df)):\n",
    "    table5.append(list(map(str, df.iloc[i].tolist())))\n",
    "\n",
    "print(columns0, columns1, columns2, columns3, columns4, columns5)"
   ]
  }
 ],
 "metadata": {
  "kernelspec": {
   "display_name": "dm",
   "language": "python",
   "name": "python3"
  },
  "language_info": {
   "codemirror_mode": {
    "name": "ipython",
    "version": 3
   },
   "file_extension": ".py",
   "mimetype": "text/x-python",
   "name": "python",
   "nbconvert_exporter": "python",
   "pygments_lexer": "ipython3",
   "version": "3.9.16"
  },
  "orig_nbformat": 4
 },
 "nbformat": 4,
 "nbformat_minor": 2
}
